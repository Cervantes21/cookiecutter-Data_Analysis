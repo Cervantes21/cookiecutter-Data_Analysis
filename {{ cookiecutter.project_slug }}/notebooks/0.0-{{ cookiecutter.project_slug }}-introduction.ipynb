{
 "cells": [
  {
   "cell_type": "markdown",
   "metadata": {},
   "source": [
    "# Introducction\n",
    "\n",
    "## what are in the function folder?\n",
    "\n",
    "I share functions to get the absolute path of files or directories, the functions:\n",
    "- *make_dir* : make the absolute path \n",
    "- *make_item_list* : return a list with the paths of all files in the folder specified \n",
    "\n",
    "you could review the **get_pah.py** file to see all the code, feel free to delete or use this folder :)\n",
    "\n",
    "## Example of use"
   ]
  },
  {
   "cell_type": "code",
   "execution_count": 3,
   "metadata": {},
   "outputs": [
    {
     "name": "stdout",
     "output_type": "stream",
     "text": [
      "/mnt/c/Users/ELECTRO/Documents/VSC/cookiecutter_plantillas/Data Analisys/{{ cookiecutter.project_slug }}/notebooks/..\n",
      "True\n",
      "True\n",
      "[]\n"
     ]
    }
   ],
   "source": [
    "\n",
    "from functions.get_path import *\n",
    "\n",
    "#the function consider that you are in {{ cookiecutter.project_slug }}\n",
    "\n",
    "# to get path {{ cookiecutter.project_slug }}/data/0_raw\n",
    "raw_directorie_path = make_path('data', '0_raw')\n",
    "print(os.path.isdir(raw_directorie_path))\n",
    "\n",
    "# to get file path {{ cookiecutter.project_slug }}/data/0_raw/.gitkeep\n",
    "file_path = make_path('data', '0_raw','.gitkeep')\n",
    "\n",
    "# to get lit of files in {{ cookiecutter.project_slug }}\n",
    "print(os.path.isfile(file_path))\n",
    "raw_items=make_item_list('data','0_raw')\n",
    "print(raw_items)"
   ]
  }
 ],
 "metadata": {
  "interpreter": {
   "hash": "da0733af7d5e633716952d6f8ccf7a258aa98b5642ab14678a50d16c8d42da41"
  },
  "kernelspec": {
   "display_name": "Python 3.8.5 64-bit ('base': conda)",
   "language": "python",
   "name": "python3"
  },
  "language_info": {
   "codemirror_mode": {
    "name": "ipython",
    "version": 3
   },
   "file_extension": ".py",
   "mimetype": "text/x-python",
   "name": "python",
   "nbconvert_exporter": "python",
   "pygments_lexer": "ipython3",
   "version": "3.9.9"
  },
  "orig_nbformat": 4
 },
 "nbformat": 4,
 "nbformat_minor": 2
}
