{
 "cells": [
  {
   "cell_type": "markdown",
   "metadata": {},
   "source": [
    "# Introducction\n",
    "\n",
    "## what are in the functions folder?\n",
    "\n",
    "I share functions to get the absolute path of files or directories, the functions:\n",
    "- *make_dir* : make the absolute path \n",
    "- *make_item_list* : return a list with the paths of all files in the folder specified \n",
    "- *make_directorie_list* : return a list with the paths of all directories in the folder specified \n",
    "  \n",
    "you could review the **get_path.py** file to see all the code, feel free to delete or use this folder :)\n",
    "\n",
    "## Example of use\n",
    "execute the blocks below to see how to use the functions"
   ]
  },
  {
   "cell_type": "code",
   "execution_count": null,
   "metadata": {},
   "outputs": [],
   "source": [
    "\n",
    "from functions.get_path import *\n",
    "#the functions consider that you are in {{ cookiecutter.project_slug }}\n",
    "print(make_path())"
   ]
  },
  {
   "cell_type": "markdown",
   "metadata": {},
   "source": [
    "to get path {{ cookiecutter.project_slug }}/data/0_raw"
   ]
  },
  {
   "cell_type": "code",
   "execution_count": null,
   "metadata": {},
   "outputs": [],
   "source": [
    "\n",
    "raw_directorie_path = make_path('data', '0_raw')\n",
    "print(raw_directorie_path)\n",
    "print(os.path.isdir(raw_directorie_path))"
   ]
  },
  {
   "cell_type": "markdown",
   "metadata": {},
   "source": [
    "to get a file path {{cookiecutter.project_slug}}/data/0_raw/.gitkeep"
   ]
  },
  {
   "cell_type": "code",
   "execution_count": null,
   "metadata": {},
   "outputs": [],
   "source": [
    "file_path = make_path('data', '0_raw','.gitkeep')\n",
    "print(file_path)\n",
    "print(os.path.isfile(file_path))\n"
   ]
  },
  {
   "cell_type": "markdown",
   "metadata": {},
   "source": [
    "to get a list of files or folders in {{ cookiecutter.project_slug }}"
   ]
  },
  {
   "cell_type": "code",
   "execution_count": null,
   "metadata": {},
   "outputs": [],
   "source": [
    "base_items = make_item_list()\n",
    "print(base_items)\n",
    "base_folders=make_directories_list()\n",
    "print(base_folders)"
   ]
  }
 ],
 "metadata": {
  "interpreter": {
   "hash": "da0733af7d5e633716952d6f8ccf7a258aa98b5642ab14678a50d16c8d42da41"
  },
  "kernelspec": {
   "display_name": "Python 3.8.5 64-bit ('base': conda)",
   "language": "python",
   "name": "python3"
  },
  "language_info": {
   "codemirror_mode": {
    "name": "ipython",
    "version": 3
   },
   "file_extension": ".py",
   "mimetype": "text/x-python",
   "name": "python",
   "nbconvert_exporter": "python",
   "pygments_lexer": "ipython3",
   "version": "3.9.9"
  },
  "orig_nbformat": 4
 },
 "nbformat": 4,
 "nbformat_minor": 2
}
